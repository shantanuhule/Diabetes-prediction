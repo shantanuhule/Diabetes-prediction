{
 "cells": [
  {
   "cell_type": "code",
   "execution_count": 1,
   "metadata": {},
   "outputs": [],
   "source": [
    "import pandas as pd\n",
    "import numpy as np\n",
    "import matplotlib.pyplot as plt\n",
    "import seaborn as sns\n",
    "import os"
   ]
  },
  {
   "cell_type": "code",
   "execution_count": 2,
   "metadata": {},
   "outputs": [
    {
     "name": "stdout",
     "output_type": "stream",
     "text": [
      "shape: (768, 9)\n"
     ]
    },
    {
     "data": {
      "text/html": [
       "<div>\n",
       "<style scoped>\n",
       "    .dataframe tbody tr th:only-of-type {\n",
       "        vertical-align: middle;\n",
       "    }\n",
       "\n",
       "    .dataframe tbody tr th {\n",
       "        vertical-align: top;\n",
       "    }\n",
       "\n",
       "    .dataframe thead th {\n",
       "        text-align: right;\n",
       "    }\n",
       "</style>\n",
       "<table border=\"1\" class=\"dataframe\">\n",
       "  <thead>\n",
       "    <tr style=\"text-align: right;\">\n",
       "      <th></th>\n",
       "      <th>Pregnancies</th>\n",
       "      <th>Glucose</th>\n",
       "      <th>BloodPressure</th>\n",
       "      <th>SkinThickness</th>\n",
       "      <th>Insulin</th>\n",
       "      <th>BMI</th>\n",
       "      <th>DiabetesPedigreeFunction</th>\n",
       "      <th>Age</th>\n",
       "      <th>Outcome</th>\n",
       "    </tr>\n",
       "  </thead>\n",
       "  <tbody>\n",
       "    <tr>\n",
       "      <th>0</th>\n",
       "      <td>6</td>\n",
       "      <td>148</td>\n",
       "      <td>72</td>\n",
       "      <td>35</td>\n",
       "      <td>0</td>\n",
       "      <td>33.6</td>\n",
       "      <td>0.627</td>\n",
       "      <td>50</td>\n",
       "      <td>1</td>\n",
       "    </tr>\n",
       "    <tr>\n",
       "      <th>1</th>\n",
       "      <td>1</td>\n",
       "      <td>85</td>\n",
       "      <td>66</td>\n",
       "      <td>29</td>\n",
       "      <td>0</td>\n",
       "      <td>26.6</td>\n",
       "      <td>0.351</td>\n",
       "      <td>31</td>\n",
       "      <td>0</td>\n",
       "    </tr>\n",
       "    <tr>\n",
       "      <th>2</th>\n",
       "      <td>8</td>\n",
       "      <td>183</td>\n",
       "      <td>64</td>\n",
       "      <td>0</td>\n",
       "      <td>0</td>\n",
       "      <td>23.3</td>\n",
       "      <td>0.672</td>\n",
       "      <td>32</td>\n",
       "      <td>1</td>\n",
       "    </tr>\n",
       "    <tr>\n",
       "      <th>3</th>\n",
       "      <td>1</td>\n",
       "      <td>89</td>\n",
       "      <td>66</td>\n",
       "      <td>23</td>\n",
       "      <td>94</td>\n",
       "      <td>28.1</td>\n",
       "      <td>0.167</td>\n",
       "      <td>21</td>\n",
       "      <td>0</td>\n",
       "    </tr>\n",
       "    <tr>\n",
       "      <th>4</th>\n",
       "      <td>0</td>\n",
       "      <td>137</td>\n",
       "      <td>40</td>\n",
       "      <td>35</td>\n",
       "      <td>168</td>\n",
       "      <td>43.1</td>\n",
       "      <td>2.288</td>\n",
       "      <td>33</td>\n",
       "      <td>1</td>\n",
       "    </tr>\n",
       "  </tbody>\n",
       "</table>\n",
       "</div>"
      ],
      "text/plain": [
       "   Pregnancies  Glucose  BloodPressure  SkinThickness  Insulin   BMI  \\\n",
       "0            6      148             72             35        0  33.6   \n",
       "1            1       85             66             29        0  26.6   \n",
       "2            8      183             64              0        0  23.3   \n",
       "3            1       89             66             23       94  28.1   \n",
       "4            0      137             40             35      168  43.1   \n",
       "\n",
       "   DiabetesPedigreeFunction  Age  Outcome  \n",
       "0                     0.627   50        1  \n",
       "1                     0.351   31        0  \n",
       "2                     0.672   32        1  \n",
       "3                     0.167   21        0  \n",
       "4                     2.288   33        1  "
      ]
     },
     "execution_count": 2,
     "metadata": {},
     "output_type": "execute_result"
    }
   ],
   "source": [
    "df=pd.read_csv(r'D:\\deep learning\\EXPOSYS DATA\\diabetes.csv')\n",
    "print(\"shape:\",df.shape)\n",
    "df.head()"
   ]
  },
  {
   "cell_type": "code",
   "execution_count": 3,
   "metadata": {},
   "outputs": [],
   "source": [
    "from sklearn.preprocessing import StandardScaler\n",
    "ss=StandardScaler()\n",
    "X =  pd.DataFrame(ss.fit_transform(df.drop([\"Outcome\"],axis = 1),),\n",
    "        columns=['Pregnancies', 'Glucose', 'BloodPressure', 'SkinThickness', 'Insulin',\n",
    "       'BMI', 'DiabetesPedigreeFunction', 'Age'])\n",
    "y=df['Outcome']"
   ]
  },
  {
   "cell_type": "code",
   "execution_count": 4,
   "metadata": {},
   "outputs": [],
   "source": [
    "from sklearn.model_selection import train_test_split\n",
    "X_train,X_test,y_train,y_test=train_test_split(X,y,test_size=0.3,random_state=3)"
   ]
  },
  {
   "cell_type": "code",
   "execution_count": 5,
   "metadata": {},
   "outputs": [],
   "source": [
    "from sklearn.metrics import accuracy_score\n",
    "import joblib"
   ]
  },
  {
   "cell_type": "code",
   "execution_count": 6,
   "metadata": {},
   "outputs": [],
   "source": [
    "# load Models\n",
    "linear_model=joblib.load('linear_model.sav')\n",
    "random_forest_classifier=joblib.load('random_forest_classifer.sav')\n",
    "kneighbourclassifier=joblib.load('kneighbors_classifier.sav')\n",
    "support_vector_machine=joblib.load('Support_vector_machine.sav')\n",
    "decision_tree_classifier=joblib.load('Decision_tree_classifier.sav')\n",
    "gradinet_boost_c=joblib.load('GradientBoostingClassifier.sav')\n"
   ]
  },
  {
   "cell_type": "code",
   "execution_count": 7,
   "metadata": {},
   "outputs": [],
   "source": [
    "#accuracy of models for training data\n",
    "LR=accuracy_score(y_train,linear_model.predict(X_train))*100\n",
    "RFC=accuracy_score(y_train,random_forest_classifier.predict(X_train))*100\n",
    "KNC=accuracy_score(y_train,kneighbourclassifier.predict(X_train))*100\n",
    "SVM=accuracy_score(y_train,support_vector_machine.predict(X_train))*100\n",
    "DTC=accuracy_score(y_train,decision_tree_classifier.predict(X_train))*100\n",
    "GBC=accuracy_score(y_train,gradinet_boost_c.predict(X_train))*100\n",
    "\n",
    "train_acc_list=[LR,RFC,KNC,SVM,DTC,GBC]\n"
   ]
  },
  {
   "cell_type": "code",
   "execution_count": 8,
   "metadata": {},
   "outputs": [
    {
     "data": {
      "image/png": "[encoded data removed]",
      "text/plain": [
       "<Figure size 432x288 with 1 Axes>"
      ]
     },
     "metadata": {
      "needs_background": "light"
     },
     "output_type": "display_data"
    },
    {
     "name": "stdout",
     "output_type": "stream",
     "text": [
      "LR: 79.14338919925513 \n",
      "RFC: 87.70949720670392 \n",
      "KNC: 79.70204841713222 \n",
      "SVM: 83.42644320297951 \n",
      "DTC: 83.79888268156425 \n",
      "GBC: 93.29608938547486\n"
     ]
    }
   ],
   "source": [
    "import matplotlib.pyplot as plt\n",
    "fig = plt.figure()\n",
    "ax = fig.add_axes([0,0,1,1])\n",
    "models = ['LR', 'RFC', 'KNC', 'SVM', 'DTC','GBC']\n",
    "model_accuracy = [LR,RFC,KNC,SVM,DTC,GBC]\n",
    "ax.bar(models,model_accuracy)\n",
    "plt.show()\n",
    "print(\"LR:\",LR,\"\\nRFC:\",RFC,\"\\nKNC:\",KNC,\"\\nSVM:\",SVM,\"\\nDTC:\",DTC,\"\\nGBC:\",GBC)\n"
   ]
  },
  {
   "cell_type": "code",
   "execution_count": 9,
   "metadata": {},
   "outputs": [
    {
     "name": "stdout",
     "output_type": "stream",
     "text": [
      "Enter Pregnancies:6\n",
      "Enter Glucose:148\n",
      "Enter Bloodpressure:72\n",
      "Enter Skin_thickness:35\n",
      "Enter Insulin:0\n",
      "Enter BMI:33.6\n",
      "Enter Diabetes_predigree_function:0.8\n",
      "Enter Age:58\n",
      "Report: Diabetes predicted\n"
     ]
    }
   ],
   "source": [
    "import joblib\n",
    "def predict_diabetes():\n",
    "    pre=float(input(\"Enter Pregnancies:\"))\n",
    "    glu=float(input(\"Enter Glucose:\"))\n",
    "    bp=float(input(\"Enter Bloodpressure:\"))\n",
    "    st=float(input(\"Enter Skin_thickness:\"))\n",
    "    ins=float(input(\"Enter Insulin:\"))\n",
    "    bmi=float(input(\"Enter BMI:\"))\n",
    "    dbf=float(input(\"Enter Diabetes_predigree_function:\"))\n",
    "    age=float(input('Enter Age:'))\n",
    "    \n",
    "    pred=[[pre,glu,bp,st,ins,bmi,dbf,age]]\n",
    "    \n",
    "    gradinet_boost_c=joblib.load('GradientBoostingClassifier.sav')\n",
    "    prediction=gradinet_boost_c.predict(pred)\n",
    "    \n",
    "    if(prediction==1):\n",
    "        result='Report: Diabetes predicted'\n",
    "    else:\n",
    "        result='Report: Normal'\n",
    "        \n",
    "    return result\n",
    "\n",
    "\n",
    "result=predict_diabetes()\n",
    "print(result)\n"
   ]
  },
  {
   "cell_type": "code",
   "execution_count": 25,
   "metadata": {},
   "outputs": [
    {
     "name": "stdout",
     "output_type": "stream",
     "text": [
      "Enter Pregnancies:6\n",
      "Enter Glucose:148\n",
      "Enter Bloodpressure:72\n",
      "Enter Skin_thickness:35\n",
      "Enter Insulin:0\n",
      "Enter BMI:33.6\n",
      "Enter Diabetes_predigree_function:0.64\n",
      "Enter Age:80\n",
      "Report: Diabetes predicted\n"
     ]
    }
   ],
   "source": [
    "result=predict_diabetes()\n",
    "print(result)"
   ]
  },
  {
   "cell_type": "code",
   "execution_count": null,
   "metadata": {},
   "outputs": [],
   "source": []
  }
 ],
 "metadata": {
  "kernelspec": {
   "display_name": "Python 3",
   "language": "python",
   "name": "python3"
  },
  "language_info": {
   "codemirror_mode": {
    "name": "ipython",
    "version": 3
   },
   "file_extension": ".py",
   "mimetype": "text/x-python",
   "name": "python",
   "nbconvert_exporter": "python",
   "pygments_lexer": "ipython3",
   "version": "3.8.5"
  }
 },
 "nbformat": 4,
 "nbformat_minor": 4
}
